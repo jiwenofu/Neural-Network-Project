{
 "cells": [
  {
   "cell_type": "markdown",
   "id": "f10c1a01",
   "metadata": {},
   "source": [
    "**ANN Project**"
   ]
  },
  {
   "cell_type": "code",
   "execution_count": null,
   "id": "e068119b",
   "metadata": {},
   "outputs": [],
   "source": [
    "import tensorflow as tf\n",
    "from tensorflow import keras\n",
    "import matplotlib.pyplot as plt\n",
    "import numpy as np\n",
    "import pandas as pd"
   ]
  }
 ],
 "metadata": {
  "kernelspec": {
   "display_name": "neuralNetworks",
   "language": "python",
   "name": "python3"
  },
  "language_info": {
   "name": "python",
   "version": "3.11.11"
  }
 },
 "nbformat": 4,
 "nbformat_minor": 5
}
