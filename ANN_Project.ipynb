{
 "cells": [
  {
   "cell_type": "markdown",
   "id": "f10c1a01",
   "metadata": {},
   "source": [
    "**ANN Project**"
   ]
  }
 ],
 "metadata": {
  "kernelspec": {
   "display_name": "neuralNetworks",
   "language": "python",
   "name": "python3"
  },
  "language_info": {
   "name": "python",
   "version": "3.11.11"
  }
 },
 "nbformat": 4,
 "nbformat_minor": 5
}
